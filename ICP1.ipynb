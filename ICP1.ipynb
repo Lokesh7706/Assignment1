{
  "nbformat": 4,
  "nbformat_minor": 0,
  "metadata": {
    "colab": {
      "provenance": []
    },
    "kernelspec": {
      "name": "python3",
      "display_name": "Python 3"
    },
    "language_info": {
      "name": "python"
    }
  },
  "cells": [
    {
      "cell_type": "markdown",
      "source": [
        "Write a program that takes two strings from the user: first_name, last_name. Pass these variables to\n",
        "fullname function that should return the (full name).\n",
        "o For example:\n",
        "▪ First_name = “your first name”, last_name = “your last name”\n",
        "▪ Full_name = “your full name”\n",
        "o Write function named “string_alternative” that returns every other char in the full_name string.\n",
        "Str = “Good evening”\n",
        "Output: Go vnn\n",
        "Note: You need to create a function named “string_alternative” for this program and call it from\n",
        "main function."
      ],
      "metadata": {
        "id": "5PCN5ISiIDsB"
      }
    },
    {
      "cell_type": "code",
      "execution_count": 10,
      "metadata": {
        "colab": {
          "base_uri": "https://localhost:8080/"
        },
        "id": "YazYgNFSAjL6",
        "outputId": "ff5c4137-dcc8-4024-9d7c-88dcf08a9408"
      },
      "outputs": [
        {
          "output_type": "stream",
          "name": "stdout",
          "text": [
            "Enter your first name cheruku\n",
            "Enter your last name loki\n",
            "Your fullname is cheruku loki\n",
            "The alternate string is:  ceuulk\n"
          ]
        }
      ],
      "source": [
        "your_firstname=input(\"Enter your first name \")\n",
        "your_lastname=input(\"Enter your last name \")\n",
        "\n",
        "def fullname(your_firstname,your_lastname):\n",
        "    global your_fullname\n",
        "    your_fullname=your_firstname+\" \"+your_lastname\n",
        "    print(\"Your fullname is \" + your_fullname)\n",
        "fullname(your_firstname,your_lastname)\n",
        "\n",
        "#For displaying the alternate string\n",
        "def alternate_string(your_fullname):\n",
        "    fullname=your_fullname[::2] # for showing the alternate letters\n",
        "    print(\"The alternate string is: \" ,fullname) #printing the alternate string of fullname\n",
        "alternate_string(your_fullname)\n"
      ]
    },
    {
      "cell_type": "markdown",
      "source": [
        "Write a python program to find the wordcount in a file (input.txt) for each line and then print the output.\n",
        "o Finally store the output in output.txt file.\n",
        "Example:\n",
        "Input: a file includes two lines:\n",
        "Python Course\n",
        "Deep Learning Course"
      ],
      "metadata": {
        "id": "YeiA8up5J1sD"
      }
    },
    {
      "cell_type": "code",
      "source": [
        "def count_word_occurrences(line, word_count):\n",
        "    words = line.split()\n",
        "    for word in words:\n",
        "        word_count[word] = word_count.get(word, 0) + 1\n",
        "\n",
        "def main():\n",
        "    input_file_name = \"input.txt\"\n",
        "    output_file_name = \"output.txt\"\n",
        "\n",
        "    try:\n",
        "        # Read input file\n",
        "        with open(input_file_name, 'r') as file:\n",
        "            lines = file.readlines()\n",
        "\n",
        "        # Count word occurrences\n",
        "        word_count = {}\n",
        "        for line in lines:\n",
        "            count_word_occurrences(line, word_count)\n",
        "\n",
        "        # Prepare summarized output\n",
        "        output_lines = []\n",
        "        for word, count in word_count.items():\n",
        "            output_lines.append(f\"{word}: {count}\")\n",
        "\n",
        "        # Print the output\n",
        "        for output_line in output_lines:\n",
        "            print(output_line)\n",
        "\n",
        "        # Write output to file\n",
        "        with open(output_file_name, 'w') as output_file:\n",
        "            output_file.write('\\n'.join(output_lines))\n",
        "\n",
        "        print(f\"\\nWord count results saved in {output_file_name}\")\n",
        "\n",
        "    except FileNotFoundError:\n",
        "        print(f\"Error: File '{input_file_name}' not found.\")\n",
        "\n",
        "if __name__ == \"__main__\":\n",
        "    main()\n",
        "\n"
      ],
      "metadata": {
        "colab": {
          "base_uri": "https://localhost:8080/"
        },
        "id": "ggKRhYuFIbn2",
        "outputId": "9a22406f-815e-4f37-ee64-014be1f4dcb9"
      },
      "execution_count": 6,
      "outputs": [
        {
          "output_type": "stream",
          "name": "stdout",
          "text": [
            "Python: 1\n",
            "Course: 2\n",
            "Deep: 1\n",
            "Learning: 1\n",
            "\n",
            "Word count results saved in output.txt\n"
          ]
        }
      ]
    },
    {
      "cell_type": "markdown",
      "source": [
        "Write a program, which reads heights (inches.) of customers into a list and convert these\n",
        "heights to centimeters in a separate list using:\n",
        "1) Nested Interactive loop.\n",
        "2) List comprehensions\n",
        "Example: L1: [150,155, 145, 148]\n",
        "Output: [68.03, 70.3, 65.77, 67.13]"
      ],
      "metadata": {
        "id": "dPnTPWJBLIOf"
      }
    },
    {
      "cell_type": "code",
      "source": [
        "def inches_to_centimeters_nested(heights_inches):\n",
        "    heights_centimeters = []\n",
        "    for inch in heights_inches:\n",
        "        centimeter = inch * 2.54\n",
        "        heights_centimeters.append(round(centimeter, 2))\n",
        "    return heights_centimeters\n",
        "\n",
        "def inches_to_centimeters_list_comprehension(heights_inches):\n",
        "    return [round(inch * 2.54, 2) for inch in heights_inches]\n",
        "\n",
        "def main():\n",
        "    # Get input from the user\n",
        "    try:\n",
        "        num_customers = int(input(\"Enter the number of customers: \"))\n",
        "        heights_inches = []\n",
        "        for i in range(num_customers):\n",
        "            height = float(input(f\"Enter height (in inches) for customer {i + 1}: \"))\n",
        "            heights_inches.append(height)\n",
        "\n",
        "        # Convert using nested interactive loop\n",
        "        heights_centimeters_nested = inches_to_centimeters_nested(heights_inches)\n",
        "\n",
        "        # Convert using list comprehension\n",
        "        heights_centimeters_list_comp = inches_to_centimeters_list_comprehension(heights_inches)\n",
        "\n",
        "        # Print the results\n",
        "        print(\"\\nHeights (in inches):\", heights_inches)\n",
        "        print(\"Heights (in centimeters) using nested loop:\", heights_centimeters_nested)\n",
        "        print(\"Heights (in centimeters) using list comprehension:\", heights_centimeters_list_comp)\n",
        "\n",
        "    except ValueError:\n",
        "        print(\"Error: Please enter valid numerical values for heights.\")\n",
        "\n",
        "if __name__ == \"__main__\":\n",
        "    main()\n",
        "\n"
      ],
      "metadata": {
        "colab": {
          "base_uri": "https://localhost:8080/"
        },
        "id": "_gHbauBgJ6fI",
        "outputId": "1d61d85e-4816-42e7-9f40-ff9ecb05878b"
      },
      "execution_count": 11,
      "outputs": [
        {
          "output_type": "stream",
          "name": "stdout",
          "text": [
            "Enter the number of customers: 4\n",
            "Enter height (in inches) for customer 1: 145\n",
            "Enter height (in inches) for customer 2: 150\n",
            "Enter height (in inches) for customer 3: 125\n",
            "Enter height (in inches) for customer 4: 135\n",
            "\n",
            "Heights (in inches): [145.0, 150.0, 125.0, 135.0]\n",
            "Heights (in centimeters) using nested loop: [368.3, 381.0, 317.5, 342.9]\n",
            "Heights (in centimeters) using list comprehension: [368.3, 381.0, 317.5, 342.9]\n"
          ]
        }
      ]
    },
    {
      "cell_type": "markdown",
      "source": [],
      "metadata": {
        "id": "bGPfygwvIAx9"
      }
    }
  ]
}